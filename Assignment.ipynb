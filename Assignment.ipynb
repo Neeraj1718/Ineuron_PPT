{
 "cells": [
  {
   "cell_type": "markdown",
   "id": "13f9d93a",
   "metadata": {},
   "source": [
    "1. Write a Python program to reverse a string without using any built-in string reversal functions.\n"
   ]
  },
  {
   "cell_type": "code",
   "execution_count": 26,
   "id": "928d0dd2",
   "metadata": {},
   "outputs": [
    {
     "name": "stdout",
     "output_type": "stream",
     "text": [
      "Enter a string: ifgsef\n",
      "Reversed string: fesgfi\n"
     ]
    }
   ],
   "source": [
    "def reverse_string(input_string):\n",
    "    reversed_string = \"\"\n",
    "    for char in input_string:\n",
    "        reversed_string = char + reversed_string\n",
    "    return reversed_string\n",
    "\n",
    "# Example usage\n",
    "input_str = input(\"Enter a string: \")\n",
    "reversed_str = reverse_string(input_str)\n",
    "print(\"Reversed string:\", reversed_str)\n"
   ]
  },
  {
   "cell_type": "markdown",
   "id": "a7490d53",
   "metadata": {},
   "source": [
    " 2. Implement a function to check if a given string is a palindrome.\n"
   ]
  },
  {
   "cell_type": "code",
   "execution_count": 27,
   "id": "5b32cc52",
   "metadata": {},
   "outputs": [
    {
     "name": "stdout",
     "output_type": "stream",
     "text": [
      "Enter a string: \n",
      "The string is a palindrome.\n"
     ]
    }
   ],
   "source": [
    "def is_palindrome(input_string):\n",
    "    input_string = input_string.lower()\n",
    "    reversed_string = input_string[::-1]\n",
    "    return input_string == reversed_string\n",
    "\n",
    "# Example usage\n",
    "input_str = input(\"Enter a string: \")\n",
    "if is_palindrome(input_str):\n",
    "    print(\"The string is a palindrome.\")\n",
    "else:\n",
    "    print(\"The string is not a palindrome.\")\n"
   ]
  },
  {
   "cell_type": "markdown",
   "id": "89e2ad7d",
   "metadata": {},
   "source": [
    "3. Write a program to find the largest element in a given list."
   ]
  },
  {
   "cell_type": "code",
   "execution_count": 28,
   "id": "6cb58e9c",
   "metadata": {},
   "outputs": [
    {
     "name": "stdout",
     "output_type": "stream",
     "text": [
      "Largest element: 12\n"
     ]
    }
   ],
   "source": [
    "def find_largest_element(lst):\n",
    "    if len(lst) == 0:\n",
    "        return None\n",
    "\n",
    "    largest = lst[0]\n",
    "    for num in lst:\n",
    "        if num > largest:\n",
    "            largest = num\n",
    "\n",
    "    return largest\n",
    "\n",
    "# Example usage\n",
    "input_list = [9, 5, 12, 3, 7]\n",
    "largest_element = find_largest_element(input_list)\n",
    "print(\"Largest element:\", largest_element)\n"
   ]
  },
  {
   "cell_type": "markdown",
   "id": "be70f7ce",
   "metadata": {},
   "source": [
    "4. Implement a function to count the occurrence of each element in a list.\n"
   ]
  },
  {
   "cell_type": "code",
   "execution_count": 29,
   "id": "1c35b338",
   "metadata": {},
   "outputs": [
    {
     "name": "stdout",
     "output_type": "stream",
     "text": [
      "Occurrences: {1: 2, 2: 3, 3: 2, 4: 3, 5: 2}\n"
     ]
    }
   ],
   "source": [
    "def count_occurrences(lst):\n",
    "    occurrences = {}\n",
    "    for element in lst:\n",
    "        if element in occurrences:\n",
    "            occurrences[element] += 1\n",
    "        else:\n",
    "            occurrences[element] = 1\n",
    "    return occurrences\n",
    "\n",
    "\n",
    "input_list = [1, 2, 3, 2, 4, 1, 5, 2, 3, 4, 4, 5]\n",
    "occurrences = count_occurrences(input_list)\n",
    "print(\"Occurrences:\", occurrences)\n"
   ]
  },
  {
   "cell_type": "markdown",
   "id": "2acee25a",
   "metadata": {},
   "source": [
    "5.  Write a Python program to find the second largest number in a list."
   ]
  },
  {
   "cell_type": "code",
   "execution_count": 30,
   "id": "f4d923cf",
   "metadata": {},
   "outputs": [
    {
     "name": "stdout",
     "output_type": "stream",
     "text": [
      "Second largest number: 9\n"
     ]
    }
   ],
   "source": [
    "def find_second_largest(lst):\n",
    "    if len(lst) < 2:\n",
    "        return None\n",
    "\n",
    "    largest = max(lst[0], lst[1])\n",
    "    second_largest = min(lst[0], lst[1])\n",
    "\n",
    "    for i in range(2, len(lst)):\n",
    "        if lst[i] > largest:\n",
    "            second_largest = largest\n",
    "            largest = lst[i]\n",
    "        elif lst[i] > second_largest and lst[i] != largest:\n",
    "            second_largest = lst[i]\n",
    "\n",
    "    return second_largest\n",
    "\n",
    "# Example usage\n",
    "input_list = [9, 5, 12, 3, 7]\n",
    "second_largest = find_second_largest(input_list)\n",
    "print(\"Second largest number:\", second_largest)\n"
   ]
  },
  {
   "cell_type": "markdown",
   "id": "77a107e9",
   "metadata": {},
   "source": [
    "6. Implement a function to remove duplicate elements from a list.\n"
   ]
  },
  {
   "cell_type": "code",
   "execution_count": 31,
   "id": "63268fd3",
   "metadata": {},
   "outputs": [
    {
     "name": "stdout",
     "output_type": "stream",
     "text": [
      "Unique elements: [1, 2, 3, 4, 5]\n"
     ]
    }
   ],
   "source": [
    "def remove_duplicates(lst):\n",
    "    return list(set(lst))\n",
    "\n",
    "# Example usage\n",
    "input_list = [1, 2, 3, 2, 4, 1, 5, 2, 3, 4, 4, 5]\n",
    "unique_list = remove_duplicates(input_list)\n",
    "print(\"Unique elements:\", unique_list)\n"
   ]
  },
  {
   "cell_type": "markdown",
   "id": "7f092788",
   "metadata": {},
   "source": [
    "7. Write a program to calculate the factorial of a given number.\n"
   ]
  },
  {
   "cell_type": "code",
   "execution_count": 32,
   "id": "c56a0f1f",
   "metadata": {},
   "outputs": [
    {
     "name": "stdout",
     "output_type": "stream",
     "text": [
      "Enter a number: \n"
     ]
    },
    {
     "ename": "ValueError",
     "evalue": "invalid literal for int() with base 10: ''",
     "output_type": "error",
     "traceback": [
      "\u001b[1;31m---------------------------------------------------------------------------\u001b[0m",
      "\u001b[1;31mValueError\u001b[0m                                Traceback (most recent call last)",
      "Cell \u001b[1;32mIn[32], line 8\u001b[0m\n\u001b[0;32m      5\u001b[0m         \u001b[38;5;28;01mreturn\u001b[39;00m n \u001b[38;5;241m*\u001b[39m factorial(n \u001b[38;5;241m-\u001b[39m \u001b[38;5;241m1\u001b[39m)\n\u001b[0;32m      7\u001b[0m \u001b[38;5;66;03m# Example usage\u001b[39;00m\n\u001b[1;32m----> 8\u001b[0m num \u001b[38;5;241m=\u001b[39m \u001b[38;5;28;43mint\u001b[39;49m\u001b[43m(\u001b[49m\u001b[38;5;28;43minput\u001b[39;49m\u001b[43m(\u001b[49m\u001b[38;5;124;43m\"\u001b[39;49m\u001b[38;5;124;43mEnter a number: \u001b[39;49m\u001b[38;5;124;43m\"\u001b[39;49m\u001b[43m)\u001b[49m\u001b[43m)\u001b[49m\n\u001b[0;32m      9\u001b[0m result \u001b[38;5;241m=\u001b[39m factorial(num)\n\u001b[0;32m     10\u001b[0m \u001b[38;5;28mprint\u001b[39m(\u001b[38;5;124m\"\u001b[39m\u001b[38;5;124mFactorial:\u001b[39m\u001b[38;5;124m\"\u001b[39m, result)\n",
      "\u001b[1;31mValueError\u001b[0m: invalid literal for int() with base 10: ''"
     ]
    }
   ],
   "source": [
    "def factorial(n):\n",
    "    if n == 0:\n",
    "        return 1\n",
    "    else:\n",
    "        return n * factorial(n - 1)\n",
    "\n",
    "# Example usage\n",
    "num = int(input(\"Enter a number: \"))\n",
    "result = factorial(num)\n",
    "print(\"Factorial:\", result)\n"
   ]
  },
  {
   "cell_type": "markdown",
   "id": "2e40531d",
   "metadata": {},
   "source": [
    "8. Implement a function to check if a given number is prime.\n"
   ]
  },
  {
   "cell_type": "code",
   "execution_count": 33,
   "id": "9f41dc9f",
   "metadata": {},
   "outputs": [
    {
     "name": "stdout",
     "output_type": "stream",
     "text": [
      "Enter a number: \n"
     ]
    },
    {
     "ename": "ValueError",
     "evalue": "invalid literal for int() with base 10: ''",
     "output_type": "error",
     "traceback": [
      "\u001b[1;31m---------------------------------------------------------------------------\u001b[0m",
      "\u001b[1;31mValueError\u001b[0m                                Traceback (most recent call last)",
      "Cell \u001b[1;32mIn[33], line 10\u001b[0m\n\u001b[0;32m      7\u001b[0m     \u001b[38;5;28;01mreturn\u001b[39;00m \u001b[38;5;28;01mTrue\u001b[39;00m\n\u001b[0;32m      9\u001b[0m \u001b[38;5;66;03m# Example usage\u001b[39;00m\n\u001b[1;32m---> 10\u001b[0m num \u001b[38;5;241m=\u001b[39m \u001b[38;5;28;43mint\u001b[39;49m\u001b[43m(\u001b[49m\u001b[38;5;28;43minput\u001b[39;49m\u001b[43m(\u001b[49m\u001b[38;5;124;43m\"\u001b[39;49m\u001b[38;5;124;43mEnter a number: \u001b[39;49m\u001b[38;5;124;43m\"\u001b[39;49m\u001b[43m)\u001b[49m\u001b[43m)\u001b[49m\n\u001b[0;32m     11\u001b[0m \u001b[38;5;28;01mif\u001b[39;00m is_prime(num):\n\u001b[0;32m     12\u001b[0m     \u001b[38;5;28mprint\u001b[39m(\u001b[38;5;124m\"\u001b[39m\u001b[38;5;124mThe number is prime.\u001b[39m\u001b[38;5;124m\"\u001b[39m)\n",
      "\u001b[1;31mValueError\u001b[0m: invalid literal for int() with base 10: ''"
     ]
    }
   ],
   "source": [
    "def is_prime(n):\n",
    "    if n <= 1:\n",
    "        return False\n",
    "    for i in range(2, int(n**0.5) + 1):\n",
    "        if n % i == 0:\n",
    "            return False\n",
    "    return True\n",
    "\n",
    "# Example usage\n",
    "num = int(input(\"Enter a number: \"))\n",
    "if is_prime(num):\n",
    "    print(\"The number is prime.\")\n",
    "else:\n",
    "    print(\"The number is not prime.\")\n"
   ]
  },
  {
   "cell_type": "markdown",
   "id": "ca6a7ee4",
   "metadata": {},
   "source": [
    "9.  Write a Python program to sort a list of integers in ascending order."
   ]
  },
  {
   "cell_type": "code",
   "execution_count": 34,
   "id": "813a4b04",
   "metadata": {},
   "outputs": [
    {
     "name": "stdout",
     "output_type": "stream",
     "text": [
      "Sorted list: [3, 5, 7, 9, 12]\n"
     ]
    }
   ],
   "source": [
    "def sort_list(lst):\n",
    "    sorted_lst = lst.copy()\n",
    "    sorted_lst.sort()\n",
    "    return sorted_lst\n",
    "\n",
    "# Example usage\n",
    "input_list = [9, 5, 12, 3, 7]\n",
    "sorted_list = sort_list(input_list)\n",
    "print(\"Sorted list:\", sorted_list)\n"
   ]
  },
  {
   "cell_type": "markdown",
   "id": "d4551e2c",
   "metadata": {},
   "source": [
    "10. Implement a function to find the sum of all numbers in a list.\n"
   ]
  },
  {
   "cell_type": "code",
   "execution_count": 35,
   "id": "3bbbdd9f",
   "metadata": {},
   "outputs": [
    {
     "name": "stdout",
     "output_type": "stream",
     "text": [
      "Sum of numbers: 36\n"
     ]
    }
   ],
   "source": [
    "def find_sum(lst):\n",
    "    total = 0\n",
    "    for num in lst:\n",
    "        total += num\n",
    "    return total\n",
    "\n",
    "# Example usage\n",
    "input_list = [9, 5, 12, 3, 7]\n",
    "sum_of_numbers = find_sum(input_list)\n",
    "print(\"Sum of numbers:\", sum_of_numbers)\n"
   ]
  },
  {
   "cell_type": "markdown",
   "id": "bc4070b6",
   "metadata": {},
   "source": [
    "11. Write a program to find the common elements between two lists."
   ]
  },
  {
   "cell_type": "code",
   "execution_count": 36,
   "id": "b9eabda2",
   "metadata": {},
   "outputs": [
    {
     "name": "stdout",
     "output_type": "stream",
     "text": [
      "Common elements: [4, 5]\n"
     ]
    }
   ],
   "source": [
    "def find_common_elements(list1, list2):\n",
    "    common_elements = []\n",
    "    for element in list1:\n",
    "        if element in list2:\n",
    "            common_elements.append(element)\n",
    "    return common_elements\n",
    "\n",
    "# Example usage\n",
    "list1 = [1, 2, 3, 4, 5]\n",
    "list2 = [4, 5, 6, 7, 8]\n",
    "common_elements = find_common_elements(list1, list2)\n",
    "print(\"Common elements:\", common_elements)\n"
   ]
  },
  {
   "cell_type": "markdown",
   "id": "bf395719",
   "metadata": {},
   "source": [
    "12. Implement a function to check if a given string is an anagram of another string.\n"
   ]
  },
  {
   "cell_type": "code",
   "execution_count": 37,
   "id": "f888f225",
   "metadata": {},
   "outputs": [
    {
     "name": "stdout",
     "output_type": "stream",
     "text": [
      "The strings are anagrams.\n"
     ]
    }
   ],
   "source": [
    "def is_anagram(str1, str2):\n",
    "    str1 = str1.lower()\n",
    "    str2 = str2.lower()\n",
    "\n",
    "    # Remove whitespace and punctuation\n",
    "    str1 = ''.join(ch for ch in str1 if ch.isalnum())\n",
    "    str2 = ''.join(ch for ch in str2 if ch.isalnum())\n",
    "\n",
    "    # Check if the sorted strings are equal\n",
    "    return sorted(str1) == sorted(str2)\n",
    "\n",
    "# Example usage\n",
    "string1 = \"listen\"\n",
    "string2 = \"silent\"\n",
    "if is_anagram(string1, string2):\n",
    "    print(\"The strings are anagrams.\")\n",
    "else:\n",
    "    print(\"The strings are not anagrams.\")\n"
   ]
  },
  {
   "cell_type": "markdown",
   "id": "ee614c1d",
   "metadata": {},
   "source": [
    "13.  Write a Python program to generate all permutations of a given string."
   ]
  },
  {
   "cell_type": "code",
   "execution_count": 38,
   "id": "58deacb2",
   "metadata": {},
   "outputs": [
    {
     "name": "stdout",
     "output_type": "stream",
     "text": [
      "Permutations:\n",
      "abc\n",
      "acb\n",
      "bac\n",
      "bca\n",
      "cab\n",
      "cba\n"
     ]
    }
   ],
   "source": [
    "def generate_permutations(string):\n",
    "    if len(string) == 1:\n",
    "        return [string]\n",
    "    \n",
    "    permutations = []\n",
    "    \n",
    "    for i in range(len(string)):\n",
    "        char = string[i]\n",
    "        remaining_chars = string[:i] + string[i+1:]\n",
    "        sub_permutations = generate_permutations(remaining_chars)\n",
    "        \n",
    "        for perm in sub_permutations:\n",
    "            permutations.append(char + perm)\n",
    "    \n",
    "    return permutations\n",
    "\n",
    "# Example usage\n",
    "input_string = \"abc\"\n",
    "permutations = generate_permutations(input_string)\n",
    "print(\"Permutations:\")\n",
    "for perm in permutations:\n",
    "    print(perm)\n"
   ]
  },
  {
   "cell_type": "markdown",
   "id": "2d1a66b5",
   "metadata": {},
   "source": [
    "14. Implement a function to calculate the Fibonacci sequence up to a given number of terms.\n"
   ]
  },
  {
   "cell_type": "code",
   "execution_count": 39,
   "id": "6b8e9120",
   "metadata": {},
   "outputs": [
    {
     "name": "stdout",
     "output_type": "stream",
     "text": [
      "Enter the number of Fibonacci terms: \n"
     ]
    },
    {
     "ename": "ValueError",
     "evalue": "invalid literal for int() with base 10: ''",
     "output_type": "error",
     "traceback": [
      "\u001b[1;31m---------------------------------------------------------------------------\u001b[0m",
      "\u001b[1;31mValueError\u001b[0m                                Traceback (most recent call last)",
      "Cell \u001b[1;32mIn[39], line 21\u001b[0m\n\u001b[0;32m     18\u001b[0m     \u001b[38;5;28;01mreturn\u001b[39;00m sequence\n\u001b[0;32m     20\u001b[0m \u001b[38;5;66;03m# Example usage\u001b[39;00m\n\u001b[1;32m---> 21\u001b[0m num_terms \u001b[38;5;241m=\u001b[39m \u001b[38;5;28;43mint\u001b[39;49m\u001b[43m(\u001b[49m\u001b[38;5;28;43minput\u001b[39;49m\u001b[43m(\u001b[49m\u001b[38;5;124;43m\"\u001b[39;49m\u001b[38;5;124;43mEnter the number of Fibonacci terms: \u001b[39;49m\u001b[38;5;124;43m\"\u001b[39;49m\u001b[43m)\u001b[49m\u001b[43m)\u001b[49m\n\u001b[0;32m     22\u001b[0m fib_sequence \u001b[38;5;241m=\u001b[39m fibonacci(num_terms)\n\u001b[0;32m     23\u001b[0m \u001b[38;5;28mprint\u001b[39m(\u001b[38;5;124m\"\u001b[39m\u001b[38;5;124mFibonacci sequence:\u001b[39m\u001b[38;5;124m\"\u001b[39m, fib_sequence)\n",
      "\u001b[1;31mValueError\u001b[0m: invalid literal for int() with base 10: ''"
     ]
    }
   ],
   "source": [
    "def fibonacci(n):\n",
    "    sequence = []\n",
    "    \n",
    "    # Check if n is 0 or negative\n",
    "    if n <= 0:\n",
    "        return sequence\n",
    "    \n",
    "    # Generate Fibonacci sequence\n",
    "    if n >= 1:\n",
    "        sequence.append(0)\n",
    "    if n >= 2:\n",
    "        sequence.append(1)\n",
    "    \n",
    "    for i in range(2, n):\n",
    "        next_number = sequence[i-1] + sequence[i-2]\n",
    "        sequence.append(next_number)\n",
    "    \n",
    "    return sequence\n",
    "\n",
    "# Example usage\n",
    "num_terms = int(input(\"Enter the number of Fibonacci terms: \"))\n",
    "fib_sequence = fibonacci(num_terms)\n",
    "print(\"Fibonacci sequence:\", fib_sequence)\n"
   ]
  },
  {
   "cell_type": "markdown",
   "id": "c197dc6f",
   "metadata": {},
   "source": [
    "15. Write a program to find the median of a list of numbers.\n"
   ]
  },
  {
   "cell_type": "code",
   "execution_count": 40,
   "id": "63fe40b4",
   "metadata": {},
   "outputs": [
    {
     "name": "stdout",
     "output_type": "stream",
     "text": [
      "Median: 7\n"
     ]
    }
   ],
   "source": [
    "def find_median(numbers):\n",
    "    numbers.sort()\n",
    "    n = len(numbers)\n",
    "    \n",
    "    if n % 2 == 0:\n",
    "        mid1 = numbers[n//2]\n",
    "        mid2 = numbers[n//2 - 1]\n",
    "        median = (mid1 + mid2) / 2\n",
    "    else:\n",
    "        median = numbers[n//2]\n",
    "    \n",
    "    return median\n",
    "\n",
    "# Example usage\n",
    "number_list = [9, 5, 12, 3, 7]\n",
    "median_value = find_median(number_list)\n",
    "print(\"Median:\", median_value)\n"
   ]
  },
  {
   "cell_type": "raw",
   "id": "4c298856",
   "metadata": {},
   "source": [
    "16. Implement a function to check if a given list is sorted in non-decreasing order."
   ]
  },
  {
   "cell_type": "code",
   "execution_count": 41,
   "id": "fdd54cfd",
   "metadata": {},
   "outputs": [
    {
     "name": "stdout",
     "output_type": "stream",
     "text": [
      "The list is sorted in non-decreasing order.\n"
     ]
    }
   ],
   "source": [
    "def is_sorted(lst):\n",
    "    n = len(lst)\n",
    "    for i in range(1, n):\n",
    "        if lst[i] < lst[i-1]:\n",
    "            return False\n",
    "    return True\n",
    "\n",
    "# Example usage\n",
    "input_list = [1, 3, 5, 7, 9]\n",
    "if is_sorted(input_list):\n",
    "    print(\"The list is sorted in non-decreasing order.\")\n",
    "else:\n",
    "    print(\"The list is not sorted in non-decreasing order.\")\n"
   ]
  },
  {
   "cell_type": "markdown",
   "id": "bff6c2cf",
   "metadata": {},
   "source": [
    "17. Write a Python program to find the intersection of two lists.\n"
   ]
  },
  {
   "cell_type": "code",
   "execution_count": 42,
   "id": "bf877384",
   "metadata": {},
   "outputs": [
    {
     "name": "stdout",
     "output_type": "stream",
     "text": [
      "Intersection: [4, 5]\n"
     ]
    }
   ],
   "source": [
    "def find_intersection(list1, list2):\n",
    "    intersection = []\n",
    "    for element in list1:\n",
    "        if element in list2:\n",
    "            intersection.append(element)\n",
    "    return intersection\n",
    "\n",
    "# Example usage\n",
    "list1 = [1, 2, 3, 4, 5]\n",
    "list2 = [4, 5, 6, 7, 8]\n",
    "intersection = find_intersection(list1, list2)\n",
    "print(\"Intersection:\", intersection)\n"
   ]
  },
  {
   "cell_type": "markdown",
   "id": "e795bae5",
   "metadata": {},
   "source": [
    "18. Implement a function to find the maximum subarray sum in a given list.\n"
   ]
  },
  {
   "cell_type": "code",
   "execution_count": 43,
   "id": "b894a24d",
   "metadata": {},
   "outputs": [
    {
     "name": "stdout",
     "output_type": "stream",
     "text": [
      "Maximum subarray sum: 6\n"
     ]
    }
   ],
   "source": [
    "def find_max_subarray_sum(nums):\n",
    "    current_sum = nums[0]\n",
    "    max_sum = nums[0]\n",
    "\n",
    "    for i in range(1, len(nums)):\n",
    "        current_sum = max(nums[i], current_sum + nums[i])\n",
    "        max_sum = max(max_sum, current_sum)\n",
    "\n",
    "    return max_sum\n",
    "\n",
    "# Example usage\n",
    "numbers = [-2, 1, -3, 4, -1, 2, 1, -5, 4]\n",
    "max_sum = find_max_subarray_sum(numbers)\n",
    "print(\"Maximum subarray sum:\", max_sum)\n"
   ]
  },
  {
   "cell_type": "markdown",
   "id": "5315bcb7",
   "metadata": {},
   "source": [
    "19. Write a program to remove all vowels from a given string.\n"
   ]
  },
  {
   "cell_type": "code",
   "execution_count": 44,
   "id": "c75a7ae8",
   "metadata": {},
   "outputs": [
    {
     "name": "stdout",
     "output_type": "stream",
     "text": [
      "String without vowels: Hll, Wrld!\n"
     ]
    }
   ],
   "source": [
    "def remove_vowels(string):\n",
    "    vowels = \"aeiouAEIOU\"\n",
    "    string_without_vowels = \"\"\n",
    "    \n",
    "    for char in string:\n",
    "        if char not in vowels:\n",
    "            string_without_vowels += char\n",
    "    \n",
    "    return string_without_vowels\n",
    "\n",
    "# Example usage\n",
    "input_string = \"Hello, World!\"\n",
    "string_without_vowels = remove_vowels(input_string)\n",
    "print(\"String without vowels:\", string_without_vowels)\n"
   ]
  },
  {
   "cell_type": "markdown",
   "id": "c4e08481",
   "metadata": {},
   "source": [
    "20.  Implement a function to reverse the order of words in a given sentence.\n"
   ]
  },
  {
   "cell_type": "code",
   "execution_count": 45,
   "id": "693b0728",
   "metadata": {},
   "outputs": [
    {
     "name": "stdout",
     "output_type": "stream",
     "text": [
      "Reversed sentence: OpenAI. to Welcome World! Hello,\n"
     ]
    }
   ],
   "source": [
    "def reverse_sentence(sentence):\n",
    "    words = sentence.split()\n",
    "    reversed_words = words[::-1]\n",
    "    reversed_sentence = ' '.join(reversed_words)\n",
    "    return reversed_sentence\n",
    "\n",
    "# Example usage\n",
    "input_sentence = \"Hello, World! Welcome to OpenAI.\"\n",
    "reversed_sentence = reverse_sentence(input_sentence)\n",
    "print(\"Reversed sentence:\", reversed_sentence)\n"
   ]
  },
  {
   "cell_type": "markdown",
   "id": "76314ac7",
   "metadata": {},
   "source": [
    "21. Write a Python program to check if two strings are anagrams of each other."
   ]
  },
  {
   "cell_type": "code",
   "execution_count": 46,
   "id": "8ed2d96d",
   "metadata": {},
   "outputs": [
    {
     "name": "stdout",
     "output_type": "stream",
     "text": [
      "The strings are anagrams.\n"
     ]
    }
   ],
   "source": [
    "def are_anagrams(str1, str2):\n",
    "    # Convert both strings to lowercase and remove whitespace\n",
    "    str1 = str1.lower().replace(\" \", \"\")\n",
    "    str2 = str2.lower().replace(\" \", \"\")\n",
    "\n",
    "    # Check if the lengths of the strings are different\n",
    "    if len(str1) != len(str2):\n",
    "        return False\n",
    "\n",
    "    # Convert the strings to lists of characters\n",
    "    str1_chars = list(str1)\n",
    "    str2_chars = list(str2)\n",
    "\n",
    "    # Sort the character lists\n",
    "    str1_chars.sort()\n",
    "    str2_chars.sort()\n",
    "\n",
    "    # Check if the sorted lists are equal\n",
    "    if str1_chars == str2_chars:\n",
    "        return True\n",
    "    else:\n",
    "        return False\n",
    "\n",
    "# Example usage\n",
    "string1 = \"listen\"\n",
    "string2 = \"silent\"\n",
    "if are_anagrams(string1, string2):\n",
    "    print(\"The strings are anagrams.\")\n",
    "else:\n",
    "    print(\"The strings are not anagrams.\")\n"
   ]
  },
  {
   "cell_type": "markdown",
   "id": "bd466adf",
   "metadata": {},
   "source": [
    "22. Implement a function to find the first non-repeating character in a string.\n"
   ]
  },
  {
   "cell_type": "code",
   "execution_count": 47,
   "id": "a80d45f5",
   "metadata": {},
   "outputs": [
    {
     "name": "stdout",
     "output_type": "stream",
     "text": [
      "First non-repeating character: O\n"
     ]
    }
   ],
   "source": [
    "def find_first_non_repeating_char(string):\n",
    "    char_count = {}\n",
    "    \n",
    "    # Count the occurrences of each character\n",
    "    for char in string:\n",
    "        if char in char_count:\n",
    "            char_count[char] += 1\n",
    "        else:\n",
    "            char_count[char] = 1\n",
    "    \n",
    "    # Find the first character with count 1\n",
    "    for char in string:\n",
    "        if char_count[char] == 1:\n",
    "            return char\n",
    "    \n",
    "    # Return None if no non-repeating character found\n",
    "    return None\n",
    "\n",
    "# Example usage\n",
    "input_string = \"OpenAI\"\n",
    "first_non_repeating = find_first_non_repeating_char(input_string)\n",
    "if first_non_repeating:\n",
    "    print(\"First non-repeating character:\", first_non_repeating)\n",
    "else:\n",
    "    print(\"No non-repeating character found.\")\n"
   ]
  },
  {
   "cell_type": "markdown",
   "id": "b6469307",
   "metadata": {},
   "source": [
    "23. Write a program to find the prime factors of a given number."
   ]
  },
  {
   "cell_type": "code",
   "execution_count": null,
   "id": "3571e4a2",
   "metadata": {},
   "outputs": [],
   "source": [
    "def find_prime_factors(number):\n",
    "    prime_factors = []\n",
    "    divisor = 2\n",
    "\n",
    "    while divisor <= number:\n",
    "        if number % divisor == 0:\n",
    "            prime_factors.append(divisor)\n",
    "            number //= divisor\n",
    "        else:\n",
    "            divisor += 1\n",
    "\n",
    "    return prime_factors\n",
    "\n",
    "# Example usage\n",
    "input_number = 56\n",
    "factors = find_prime_factors(input_number)\n",
    "print(\"Prime factors of\", input_number, \"are:\", factors)\n"
   ]
  },
  {
   "cell_type": "markdown",
   "id": "45876a00",
   "metadata": {},
   "source": [
    "24.  Implement a function to check if a given number is a power of two.\n"
   ]
  },
  {
   "cell_type": "code",
   "execution_count": 48,
   "id": "11d88841",
   "metadata": {},
   "outputs": [
    {
     "name": "stdout",
     "output_type": "stream",
     "text": [
      "16 is a power of two.\n"
     ]
    }
   ],
   "source": [
    "def is_power_of_two(number):\n",
    "    if number <= 0:\n",
    "        return False\n",
    "\n",
    "    while number > 1:\n",
    "        if number % 2 != 0:\n",
    "            return False\n",
    "        number //= 2\n",
    "\n",
    "    return True\n",
    "\n",
    "# Example usage\n",
    "input_number = 16\n",
    "if is_power_of_two(input_number):\n",
    "    print(input_number, \"is a power of two.\")\n",
    "else:\n",
    "    print(input_number, \"is not a power of two.\")\n"
   ]
  },
  {
   "cell_type": "markdown",
   "id": "905fd4ca",
   "metadata": {},
   "source": [
    "25.  Write a Python program to merge two sorted lists into a single sorted list."
   ]
  },
  {
   "cell_type": "code",
   "execution_count": 50,
   "id": "70b8cadf",
   "metadata": {},
   "outputs": [
    {
     "name": "stdout",
     "output_type": "stream",
     "text": [
      "Merged sorted list: [1, 2, 3, 4, 5, 6, 7, 8, 9, 10]\n"
     ]
    }
   ],
   "source": [
    "def merge_sorted_lists(list1, list2):\n",
    "    merged_list = []\n",
    "    i, j = 0, 0\n",
    "\n",
    "    while i < len(list1) and j < len(list2):\n",
    "        if list1[i] < list2[j]:\n",
    "            merged_list.append(list1[i])\n",
    "            i += 1\n",
    "        else:\n",
    "            merged_list.append(list2[j])\n",
    "            j += 1\n",
    "\n",
    "    # Append remaining elements of list1, if any\n",
    "    while i < len(list1):\n",
    "        merged_list.append(list1[i])\n",
    "        i += 1\n",
    "\n",
    "    # Append remaining elements of list2, if any\n",
    "    while j < len(list2):\n",
    "        merged_list.append(list2[j])\n",
    "        j += 1\n",
    "\n",
    "    return merged_list\n",
    "\n",
    "# Example usage\n",
    "list1 = [1, 3, 5, 7, 9]\n",
    "list2 = [2, 4, 6, 8, 10]\n",
    "merged_list = merge_sorted_lists(list1, list2)\n",
    "print(\"Merged sorted list:\", merged_list)\n"
   ]
  },
  {
   "cell_type": "markdown",
   "id": "81a1f209",
   "metadata": {},
   "source": [
    "26. Implement a function to find the mode of a list of numbers.\n"
   ]
  },
  {
   "cell_type": "code",
   "execution_count": 51,
   "id": "04d94ffe",
   "metadata": {},
   "outputs": [
    {
     "name": "stdout",
     "output_type": "stream",
     "text": [
      "Mode(s): [4]\n"
     ]
    }
   ],
   "source": [
    "from collections import Counter\n",
    "\n",
    "def find_mode(numbers):\n",
    "    # Count the occurrences of each number\n",
    "    counts = Counter(numbers)\n",
    "\n",
    "    # Find the number(s) with the maximum count\n",
    "    max_count = max(counts.values())\n",
    "    modes = [num for num, count in counts.items() if count == max_count]\n",
    "\n",
    "    return modes\n",
    "\n",
    "# Example usage\n",
    "number_list = [1, 2, 3, 4, 4, 4, 5, 5, 6]\n",
    "modes = find_mode(number_list)\n",
    "print(\"Mode(s):\", modes)\n"
   ]
  },
  {
   "cell_type": "markdown",
   "id": "ee1d1801",
   "metadata": {},
   "source": [
    "27.  Write a program to find the greatest common divisor (GCD) of two numbers."
   ]
  },
  {
   "cell_type": "code",
   "execution_count": 52,
   "id": "302e4dcb",
   "metadata": {},
   "outputs": [
    {
     "name": "stdout",
     "output_type": "stream",
     "text": [
      "GCD of 24 and 36 is: 12\n"
     ]
    }
   ],
   "source": [
    "def find_gcd(a, b):\n",
    "    while b != 0:\n",
    "        a, b = b, a % b\n",
    "\n",
    "    return a\n",
    "\n",
    "# Example usage\n",
    "num1 = 24\n",
    "num2 = 36\n",
    "gcd = find_gcd(num1, num2)\n",
    "print(\"GCD of\", num1, \"and\", num2, \"is:\", gcd)\n"
   ]
  },
  {
   "cell_type": "markdown",
   "id": "60a49611",
   "metadata": {},
   "source": [
    "28.  Implement a function to calculate the square root of a given number.\n"
   ]
  },
  {
   "cell_type": "code",
   "execution_count": 53,
   "id": "52ee5ec9",
   "metadata": {},
   "outputs": [
    {
     "name": "stdout",
     "output_type": "stream",
     "text": [
      "Square root of 16 is: 4.0000001858445895\n"
     ]
    }
   ],
   "source": [
    "def calculate_square_root(number, precision=0.0001):\n",
    "    if number < 0:\n",
    "        raise ValueError(\"Cannot calculate square root of a negative number.\")\n",
    "\n",
    "    guess = number / 2\n",
    "\n",
    "    while abs(guess * guess - number) > precision:\n",
    "        guess = (guess + number / guess) / 2\n",
    "\n",
    "    return guess\n",
    "\n",
    "# Example usage\n",
    "input_number = 16\n",
    "square_root = calculate_square_root(input_number)\n",
    "print(\"Square root of\", input_number, \"is:\", square_root)\n"
   ]
  },
  {
   "cell_type": "markdown",
   "id": "13bb9cae",
   "metadata": {},
   "source": [
    "29. Write a Python program to check if a given string is a valid palindrome ignoring non-alphanumeric characters.\n"
   ]
  },
  {
   "cell_type": "code",
   "execution_count": 54,
   "id": "f9acc2d1",
   "metadata": {},
   "outputs": [
    {
     "name": "stdout",
     "output_type": "stream",
     "text": [
      "The string is a valid palindrome.\n"
     ]
    }
   ],
   "source": [
    "import re\n",
    "\n",
    "def is_valid_palindrome(string):\n",
    "    # Remove non-alphanumeric characters and convert to lowercase\n",
    "    cleaned_string = re.sub(r'[^a-zA-Z0-9]', '', string).lower()\n",
    "\n",
    "    # Check if the cleaned string is equal to its reverse\n",
    "    return cleaned_string == cleaned_string[::-1]\n",
    "\n",
    "# Example usage\n",
    "input_string = \"A man, a plan, a canal: Panama!\"\n",
    "if is_valid_palindrome(input_string):\n",
    "    print(\"The string is a valid palindrome.\")\n",
    "else:\n",
    "    print(\"The string is not a valid palindrome.\")\n"
   ]
  },
  {
   "cell_type": "markdown",
   "id": "1a0a5207",
   "metadata": {},
   "source": [
    "30.  Implement a function to find the minimum element in a rotated sorted list.\n"
   ]
  },
  {
   "cell_type": "code",
   "execution_count": 55,
   "id": "c0f47c1b",
   "metadata": {},
   "outputs": [
    {
     "name": "stdout",
     "output_type": "stream",
     "text": [
      "Minimum element in the rotated list: 0\n"
     ]
    }
   ],
   "source": [
    "def find_minimum_element(nums):\n",
    "    left = 0\n",
    "    right = len(nums) - 1\n",
    "\n",
    "    while left < right:\n",
    "        mid = left + (right - left) // 2\n",
    "\n",
    "        if nums[mid] > nums[right]:\n",
    "            # Minimum element is in the right half\n",
    "            left = mid + 1\n",
    "        else:\n",
    "            # Minimum element is in the left half or at mid\n",
    "            right = mid\n",
    "\n",
    "    return nums[left]\n",
    "\n",
    "# Example usage\n",
    "rotated_list = [4, 5, 6, 7, 0, 1, 2]\n",
    "minimum_element = find_minimum_element(rotated_list)\n",
    "print(\"Minimum element in the rotated list:\", minimum_element)\n"
   ]
  },
  {
   "cell_type": "markdown",
   "id": "f3c9d0ce",
   "metadata": {},
   "source": [
    "31. Write a program to find the sum of all even numbers in a list.\n"
   ]
  },
  {
   "cell_type": "code",
   "execution_count": 56,
   "id": "7416d403",
   "metadata": {},
   "outputs": [
    {
     "name": "stdout",
     "output_type": "stream",
     "text": [
      "Sum of even numbers: 30\n"
     ]
    }
   ],
   "source": [
    "def sum_of_even_numbers(numbers):\n",
    "    sum_even = 0\n",
    "\n",
    "    for num in numbers:\n",
    "        if num % 2 == 0:\n",
    "            sum_even += num\n",
    "\n",
    "    return sum_even\n",
    "\n",
    "# Example usage\n",
    "number_list = [1, 2, 3, 4, 5, 6, 7, 8, 9, 10]\n",
    "sum_even = sum_of_even_numbers(number_list)\n",
    "print(\"Sum of even numbers:\", sum_even)\n"
   ]
  },
  {
   "cell_type": "markdown",
   "id": "10e5a030",
   "metadata": {},
   "source": [
    "32.  Implement a function to calculate the power of a number using recursion.\n"
   ]
  },
  {
   "cell_type": "code",
   "execution_count": 57,
   "id": "1c51d9cf",
   "metadata": {},
   "outputs": [
    {
     "name": "stdout",
     "output_type": "stream",
     "text": [
      "2 raised to the power of 3 is: 8\n"
     ]
    }
   ],
   "source": [
    "def power(base, exponent):\n",
    "    if exponent == 0:\n",
    "        return 1\n",
    "    elif exponent > 0:\n",
    "        return base * power(base, exponent - 1)\n",
    "    else:\n",
    "        return 1 / (base * power(base, -exponent - 1))\n",
    "\n",
    "# Example usage\n",
    "base = 2\n",
    "exponent = 3\n",
    "result = power(base, exponent)\n",
    "print(base, \"raised to the power of\", exponent, \"is:\", result)\n"
   ]
  },
  {
   "cell_type": "markdown",
   "id": "d198e9ad",
   "metadata": {},
   "source": [
    "33. Write a Python program to remove duplicates from a list while preserving the order.\n"
   ]
  },
  {
   "cell_type": "code",
   "execution_count": 58,
   "id": "2cfab32c",
   "metadata": {},
   "outputs": [
    {
     "name": "stdout",
     "output_type": "stream",
     "text": [
      "List after removing duplicates: [2, 5, 1, 7, 3, 9]\n"
     ]
    }
   ],
   "source": [
    "def remove_duplicates_preserve_order(lst):\n",
    "    seen = set()\n",
    "    result = []\n",
    "\n",
    "    for item in lst:\n",
    "        if item not in seen:\n",
    "            seen.add(item)\n",
    "            result.append(item)\n",
    "\n",
    "    return result\n",
    "\n",
    "# Example usage\n",
    "my_list = [2, 5, 1, 7, 3, 2, 5, 7, 9, 1, 3]\n",
    "unique_list = remove_duplicates_preserve_order(my_list)\n",
    "print(\"List after removing duplicates:\", unique_list)\n"
   ]
  },
  {
   "cell_type": "markdown",
   "id": "b183d6f4",
   "metadata": {},
   "source": [
    "34. Implement a function to find the longest common prefix among a list of strings.\n"
   ]
  },
  {
   "cell_type": "code",
   "execution_count": 59,
   "id": "80cded96",
   "metadata": {},
   "outputs": [
    {
     "name": "stdout",
     "output_type": "stream",
     "text": [
      "Longest common prefix: fl\n"
     ]
    }
   ],
   "source": [
    "def longest_common_prefix(strings):\n",
    "    if not strings:\n",
    "        return \"\"\n",
    "\n",
    "    prefix = strings[0]\n",
    "\n",
    "    for string in strings[1:]:\n",
    "        while string.find(prefix) != 0:\n",
    "            prefix = prefix[:-1]\n",
    "            if not prefix:\n",
    "                return \"\"\n",
    "\n",
    "    return prefix\n",
    "\n",
    "# Example usage\n",
    "string_list = [\"flower\", \"flow\", \"flight\"]\n",
    "common_prefix = longest_common_prefix(string_list)\n",
    "print(\"Longest common prefix:\", common_prefix)\n"
   ]
  },
  {
   "cell_type": "markdown",
   "id": "800faa7d",
   "metadata": {},
   "source": [
    "35. Write a program to check if a given number is a perfect square.\n"
   ]
  },
  {
   "cell_type": "code",
   "execution_count": 60,
   "id": "45bf5f78",
   "metadata": {},
   "outputs": [
    {
     "name": "stdout",
     "output_type": "stream",
     "text": [
      "25 is a perfect square.\n"
     ]
    }
   ],
   "source": [
    "def is_perfect_square(num):\n",
    "    if num < 0:\n",
    "        return False\n",
    "\n",
    "    # Use the binary search algorithm\n",
    "    left = 0\n",
    "    right = num\n",
    "\n",
    "    while left <= right:\n",
    "        mid = left + (right - left) // 2\n",
    "        square = mid * mid\n",
    "\n",
    "        if square == num:\n",
    "            return True\n",
    "        elif square < num:\n",
    "            left = mid + 1\n",
    "        else:\n",
    "            right = mid - 1\n",
    "\n",
    "    return False\n",
    "\n",
    "# Example usage\n",
    "number = 25\n",
    "if is_perfect_square(number):\n",
    "    print(number, \"is a perfect square.\")\n",
    "else:\n",
    "    print(number, \"is not a perfect square.\")\n"
   ]
  },
  {
   "cell_type": "markdown",
   "id": "6b25b287",
   "metadata": {},
   "source": [
    "36.  Implement a function to calculate the product of all elements in a list.\n"
   ]
  },
  {
   "cell_type": "code",
   "execution_count": 61,
   "id": "51a5a80a",
   "metadata": {},
   "outputs": [
    {
     "name": "stdout",
     "output_type": "stream",
     "text": [
      "Product of elements: 120\n"
     ]
    }
   ],
   "source": [
    "def product_of_elements(lst):\n",
    "    product = 1\n",
    "\n",
    "    for num in lst:\n",
    "        product *= num\n",
    "\n",
    "    return product\n",
    "\n",
    "# Example usage\n",
    "my_list = [2, 3, 4, 5]\n",
    "product = product_of_elements(my_list)\n",
    "print(\"Product of elements:\", product)\n"
   ]
  },
  {
   "cell_type": "markdown",
   "id": "e7a69717",
   "metadata": {},
   "source": [
    "37.  Write a Python program to reverse the order of words in a sentence while preserving the word order.\n"
   ]
  },
  {
   "cell_type": "code",
   "execution_count": 62,
   "id": "acddb445",
   "metadata": {},
   "outputs": [
    {
     "name": "stdout",
     "output_type": "stream",
     "text": [
      "Reversed sentence: you? are how world, Hello\n"
     ]
    }
   ],
   "source": [
    "def reverse_words(sentence):\n",
    "    words = sentence.split()\n",
    "    reversed_words = \" \".join(reversed(words))\n",
    "    return reversed_words\n",
    "\n",
    "# Example usage\n",
    "input_sentence = \"Hello world, how are you?\"\n",
    "reversed_sentence = reverse_words(input_sentence)\n",
    "print(\"Reversed sentence:\", reversed_sentence)\n"
   ]
  },
  {
   "cell_type": "markdown",
   "id": "2326f62e",
   "metadata": {},
   "source": [
    "38.  Implement a function to find the missing number in a given list of consecutive numbers.\n"
   ]
  },
  {
   "cell_type": "code",
   "execution_count": 63,
   "id": "9ecbc526",
   "metadata": {},
   "outputs": [
    {
     "name": "stdout",
     "output_type": "stream",
     "text": [
      "Missing number: 3\n"
     ]
    }
   ],
   "source": [
    "def find_missing_number(numbers):\n",
    "    n = len(numbers) + 1\n",
    "    expected_sum = (n * (n + 1)) // 2\n",
    "    actual_sum = sum(numbers)\n",
    "    missing_number = expected_sum - actual_sum\n",
    "    return missing_number\n",
    "\n",
    "# Example usage\n",
    "number_list = [1, 2, 4, 5, 6]\n",
    "missing_number = find_missing_number(number_list)\n",
    "print(\"Missing number:\", missing_number)\n"
   ]
  },
  {
   "cell_type": "markdown",
   "id": "4b1589c7",
   "metadata": {},
   "source": [
    "39. Write a program to find the sum of digits of a given number.\n"
   ]
  },
  {
   "cell_type": "code",
   "execution_count": 64,
   "id": "5ffc955c",
   "metadata": {},
   "outputs": [
    {
     "name": "stdout",
     "output_type": "stream",
     "text": [
      "Sum of digits: 15\n"
     ]
    }
   ],
   "source": [
    "def sum_of_digits(number):\n",
    "    total_sum = 0\n",
    "\n",
    "    while number > 0:\n",
    "        digit = number % 10\n",
    "        total_sum += digit\n",
    "        number //= 10\n",
    "\n",
    "    return total_sum\n",
    "\n",
    "# Example usage\n",
    "num = 12345\n",
    "digit_sum = sum_of_digits(num)\n",
    "print(\"Sum of digits:\", digit_sum)\n"
   ]
  },
  {
   "cell_type": "markdown",
   "id": "998fec79",
   "metadata": {},
   "source": [
    "40. Implement a function to check if a given string is a valid palindrome considering case sensitivity."
   ]
  },
  {
   "cell_type": "code",
   "execution_count": null,
   "id": "e5fbc241",
   "metadata": {},
   "outputs": [],
   "source": [
    "def is_valid_palindrome(string):\n",
    "    # Remove non-alphanumeric characters and convert to lowercase\n",
    "    alphanumeric_string = ''.join(char.lower() for char in string if char.isalnum())\n",
    "    reversed_string = alphanumeric_string[::-1]\n",
    "\n",
    "    return alphanumeric_string == reversed_string\n",
    "\n",
    "# Example usage\n",
    "input_string = \"A man, a plan, a canal: Panama\"\n",
    "if is_valid_palindrome(input_string):\n",
    "    print(\"The string is a valid palindrome.\")\n",
    "else:\n",
    "    print(\"The string is not a valid palindrome.\")\n"
   ]
  },
  {
   "cell_type": "markdown",
   "id": "63d6cf00",
   "metadata": {},
   "source": [
    "41. Write a Python program to find the smallest missing positive integer in a list."
   ]
  },
  {
   "cell_type": "code",
   "execution_count": null,
   "id": "5243b2df",
   "metadata": {},
   "outputs": [],
   "source": [
    "def find_smallest_missing_positive(nums):\n",
    "    n = len(nums)\n",
    "    \n",
    "    # Step 1: Move all non-positive numbers to the left side\n",
    "    i = 0\n",
    "    j = n - 1\n",
    "    \n",
    "    while i <= j:\n",
    "        if nums[i] <= 0:\n",
    "            nums[i], nums[j] = nums[j], nums[i]\n",
    "            j -= 1\n",
    "        else:\n",
    "            i += 1\n",
    "    \n",
    "    # Step 2: Mark the presence of positive numbers\n",
    "    for i in range(j + 1):\n",
    "        num = abs(nums[i])\n",
    "        if num <= j + 1:\n",
    "            nums[num - 1] = -abs(nums[num - 1])\n",
    "    \n",
    "    # Step 3: Find the smallest missing positive integer\n",
    "    for i in range(j + 1):\n",
    "        if nums[i] > 0:\n",
    "            return i + 1\n",
    "    \n",
    "    return j + 2\n",
    "\n",
    "# Example usage\n",
    "number_list = [3, 4, -1, 1]\n",
    "smallest_missing = find_smallest_missing_positive(number_list)\n",
    "print(\"Smallest missing positive integer:\", smallest_missing)\n"
   ]
  },
  {
   "cell_type": "markdown",
   "id": "4ca73f3c",
   "metadata": {},
   "source": [
    "42.  Implement a function to find the longest palindrome substring in a given string."
   ]
  },
  {
   "cell_type": "code",
   "execution_count": null,
   "id": "1ba8e350",
   "metadata": {},
   "outputs": [],
   "source": [
    "def longest_palindrome(s):\n",
    "    n = len(s)\n",
    "    if n == 0:\n",
    "        return \"\"\n",
    "    \n",
    "    start = end = 0\n",
    "    \n",
    "    for i in range(n):\n",
    "        len1 = expand_around_center(s, i, i)  # For odd-length palindromes\n",
    "        len2 = expand_around_center(s, i, i + 1)  # For even-length palindromes\n",
    "        max_len = max(len1, len2)\n",
    "        \n",
    "        if max_len > end - start:\n",
    "            start = i - (max_len - 1) // 2\n",
    "            end = i + max_len // 2\n",
    "    \n",
    "    return s[start:end+1]\n",
    "\n",
    "def expand_around_center(s, left, right):\n",
    "    n = len(s)\n",
    "    \n",
    "    while left >= 0 and right < n and s[left] == s[right]:\n",
    "        left -= 1\n",
    "        right += 1\n",
    "    \n",
    "    return right - left - 1\n",
    "\n",
    "# Example usage\n",
    "input_string = \"babad\"\n",
    "longest_palindrome_substr = longest_palindrome(input_string)\n",
    "print(\"Longest palindrome substring:\", longest_palindrome_substr)\n"
   ]
  },
  {
   "cell_type": "raw",
   "id": "d706203a",
   "metadata": {},
   "source": [
    "43. Write a program to find the number of occurrences of a given element in a list."
   ]
  },
  {
   "cell_type": "code",
   "execution_count": null,
   "id": "c909e9eb",
   "metadata": {},
   "outputs": [],
   "source": [
    "def count_occurrences(lst, element):\n",
    "    count = 0\n",
    "    for item in lst:\n",
    "        if item == element:\n",
    "            count += 1\n",
    "    return count\n",
    "\n",
    "# Example usage\n",
    "numbers = [1, 2, 3, 4, 2, 2, 5, 2]\n",
    "element_to_count = 2\n",
    "occurrence_count = count_occurrences(numbers, element_to_count)\n",
    "print(\"Number of occurrences:\", occurrence_count)\n"
   ]
  },
  {
   "cell_type": "markdown",
   "id": "f6d89f0e",
   "metadata": {},
   "source": [
    "44. Implement a function to check if a given number is a perfect number.\n"
   ]
  },
  {
   "cell_type": "code",
   "execution_count": null,
   "id": "f5d76fab",
   "metadata": {},
   "outputs": [],
   "source": [
    "def is_perfect_number(num):\n",
    "    if num <= 0:\n",
    "        return False\n",
    "\n",
    "    divisor_sum = 0\n",
    "    for i in range(1, num):\n",
    "        if num % i == 0:\n",
    "            divisor_sum += i\n",
    "    \n",
    "    return divisor_sum == num\n",
    "\n",
    "# Example usage\n",
    "number = 28\n",
    "if is_perfect_number(number):\n",
    "    print(number, \"is a perfect number.\")\n",
    "else:\n",
    "    print(number, \"is not a perfect number.\")\n"
   ]
  },
  {
   "cell_type": "markdown",
   "id": "84172bed",
   "metadata": {},
   "source": [
    "45.  Write a Python program to remove all duplicates from a string.\n"
   ]
  },
  {
   "cell_type": "code",
   "execution_count": null,
   "id": "61e255bf",
   "metadata": {},
   "outputs": [],
   "source": [
    "def remove_duplicates(string):\n",
    "    unique_chars = \"\"\n",
    "    for char in string:\n",
    "        if char not in unique_chars:\n",
    "            unique_chars += char\n",
    "    return unique_chars\n",
    "\n",
    "# Example usage\n",
    "input_string = \"Hello World\"\n",
    "result = remove_duplicates(input_string)\n",
    "print(\"String after removing duplicates:\", result)\n"
   ]
  },
  {
   "cell_type": "markdown",
   "id": "ed582ccc",
   "metadata": {},
   "source": [
    "46. Implement a function to find the first missing positive\n",
    "\n"
   ]
  },
  {
   "cell_type": "code",
   "execution_count": null,
   "id": "e48ea6ce",
   "metadata": {},
   "outputs": [],
   "source": [
    "def first_missing_positive(nums):\n",
    "    n = len(nums)\n",
    "\n",
    "    # Step 1: Move all positive numbers to the left side of the list\n",
    "    i = 0\n",
    "    while i < n:\n",
    "        if 0 < nums[i] <= n and nums[i] != nums[nums[i] - 1]:\n",
    "            nums[nums[i] - 1], nums[i] = nums[i], nums[nums[i] - 1]\n",
    "        else:\n",
    "            i += 1\n",
    "\n",
    "    # Step 2: Find the first missing positive number\n",
    "    for i in range(n):\n",
    "        if nums[i] != i + 1:\n",
    "            return i + 1\n",
    "\n",
    "    # If all positive numbers from 1 to n are present, the missing number is n + 1\n",
    "    return n + 1\n",
    "\n",
    "# Example usage\n",
    "numbers = [3, 4, -1, 1]\n",
    "missing_positive = first_missing_positive(numbers)\n",
    "print(\"First missing positive number:\", missing_positive)\n"
   ]
  },
  {
   "cell_type": "markdown",
   "id": "8cfcefdc",
   "metadata": {},
   "source": []
  },
  {
   "cell_type": "raw",
   "id": "e3144ef0",
   "metadata": {},
   "source": []
  },
  {
   "cell_type": "code",
   "execution_count": null,
   "id": "e9cf13db",
   "metadata": {},
   "outputs": [],
   "source": []
  },
  {
   "cell_type": "code",
   "execution_count": null,
   "id": "5916b9aa",
   "metadata": {},
   "outputs": [],
   "source": []
  },
  {
   "cell_type": "code",
   "execution_count": null,
   "id": "b6d60388",
   "metadata": {},
   "outputs": [],
   "source": []
  },
  {
   "cell_type": "code",
   "execution_count": null,
   "id": "f07fd4cf",
   "metadata": {},
   "outputs": [],
   "source": []
  },
  {
   "cell_type": "code",
   "execution_count": null,
   "id": "60924ca9",
   "metadata": {},
   "outputs": [],
   "source": []
  },
  {
   "cell_type": "code",
   "execution_count": null,
   "id": "1042fb23",
   "metadata": {},
   "outputs": [],
   "source": []
  },
  {
   "cell_type": "code",
   "execution_count": null,
   "id": "478eb553",
   "metadata": {},
   "outputs": [],
   "source": []
  },
  {
   "cell_type": "code",
   "execution_count": null,
   "id": "72fc5a31",
   "metadata": {},
   "outputs": [],
   "source": []
  },
  {
   "cell_type": "code",
   "execution_count": null,
   "id": "46a8dd38",
   "metadata": {},
   "outputs": [],
   "source": []
  },
  {
   "cell_type": "code",
   "execution_count": null,
   "id": "d19bcb20",
   "metadata": {},
   "outputs": [],
   "source": []
  }
 ],
 "metadata": {
  "kernelspec": {
   "display_name": "Python 3 (ipykernel)",
   "language": "python",
   "name": "python3"
  },
  "language_info": {
   "codemirror_mode": {
    "name": "ipython",
    "version": 3
   },
   "file_extension": ".py",
   "mimetype": "text/x-python",
   "name": "python",
   "nbconvert_exporter": "python",
   "pygments_lexer": "ipython3",
   "version": "3.10.9"
  }
 },
 "nbformat": 4,
 "nbformat_minor": 5
}
